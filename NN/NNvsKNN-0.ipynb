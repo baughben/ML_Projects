{
    "metadata": {
        "kernelspec": {
            "name": "SQL",
            "display_name": "SQL",
            "language": "sql"
        },
        "language_info": {
            "name": "sql",
            "version": ""
        }
    },
    "nbformat_minor": 2,
    "nbformat": 4,
    "cells": [
        {
            "cell_type": "markdown",
            "source": [
                "# Neural Network (NN) \r\n",
                "### This notebook uses a Neural Network algorithims to find the best predition model for this data set. \r\n",
                "\r\n",
                "<br/>Data Source: \r\n",
                "https://archive.ics.uci.edu/ml/datasets/SGEMM+GPU+kernel+performance"
            ],
            "metadata": {
                "azdata_cell_guid": "2860ce66-1f2e-48c8-93e0-4ee051221539"
            }
        },
        {
            "cell_type": "code",
            "source": [
                "import pandas as pd\r\n",
                "import numpy as np \r\n",
                "from sklearn.model_selection import train_test_split\r\n",
                "from sklearn.neural_network import MLPClassifier\r\n",
                "from sklearn.metrics import classification_report,confusion_matrix\r\n",
                "from sklearn.neighbors import KNeighborsClassifier\r\n",
                "from sklearn.model_selection import learning_curve\r\n",
                "import datetime\r\n",
                "\r\n",
                "\r\n",
                "seed = 20200309\r\n",
                "\r\n",
                "file1 = r'sgemm_product.csv'"
            ],
            "metadata": {
                "azdata_cell_guid": "db854bf1-726a-419c-b614-299cd8ce9c66"
            },
            "outputs": [],
            "execution_count": null
        },
        {
            "cell_type": "code",
            "source": [
                ""
            ],
            "metadata": {
                "azdata_cell_guid": "9ca9797b-a9f3-4600-af88-25391ac045d7"
            },
            "outputs": [],
            "execution_count": null
        }
    ]
}