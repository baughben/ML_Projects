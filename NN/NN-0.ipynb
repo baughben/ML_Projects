{
    "metadata": {
        "kernelspec": {
            "name": "python3",
            "display_name": "Python 3"
        },
        "language_info": {
            "name": "python",
            "version": "3.7.6",
            "mimetype": "text/x-python",
            "codemirror_mode": {
                "name": "ipython",
                "version": 3
            },
            "pygments_lexer": "ipython3",
            "nbconvert_exporter": "python",
            "file_extension": ".py"
        }
    },
    "nbformat_minor": 2,
    "nbformat": 4,
    "cells": [
        {
            "cell_type": "markdown",
            "source": [
                "# Neural Network (NN) \r\n",
                "### This notebook uses a Neural Network algorithims to find the best predition model for this data set. \r\n",
                "\r\n",
                "<br/>Data Source: \r\n",
                "https://archive.ics.uci.edu/ml/datasets/SGEMM+GPU+kernel+performance"
            ],
            "metadata": {
                "azdata_cell_guid": "2860ce66-1f2e-48c8-93e0-4ee051221539"
            }
        },
        {
            "cell_type": "code",
            "source": [
                "import pandas as pd\r\n",
                "import numpy as np \r\n",
                "from sklearn.model_selection import train_test_split\r\n",
                "from sklearn.neural_network import MLPClassifier\r\n",
                "from sklearn.metrics import classification_report,confusion_matrix\r\n",
                "from sklearn.neighbors import KNeighborsClassifier\r\n",
                "from sklearn.model_selection import learning_curve\r\n",
                "import datetime\r\n",
                "\r\n",
                "\r\n",
                "seed = 20200309\r\n",
                "\r\n",
                "file1 = r'sgemm_product.csv'"
            ],
            "metadata": {
                "azdata_cell_guid": "db854bf1-726a-419c-b614-299cd8ce9c66"
            },
            "outputs": [],
            "execution_count": 1
        },
        {
            "cell_type": "markdown",
            "source": [
                "## Read Data in and Prep it"
            ],
            "metadata": {
                "azdata_cell_guid": "dc7ea41e-e3e9-4f6f-8302-820652ac638b"
            }
        },
        {
            "cell_type": "code",
            "source": [
                "# Read and prepare sgemm_product data \r\n",
                "df_one_01 = pd.read_csv(file1)\r\n",
                "print(df_one_01.shape)\r\n",
                "\r\n",
                "#Add an average of the Runs\r\n",
                "df_one_01['RunAvg'] = (df_one_01['Run1 (ms)']+df_one_01['Run2 (ms)']+df_one_01['Run3 (ms)']+df_one_01['Run4 (ms)'])/4\r\n",
                "print(df_one_01.shape,'Added Average Column')\r\n",
                "\r\n",
                "df_one_01['B_RunAvg'] = np.where(df_one_01['RunAvg'] < df_one_01['RunAvg'].mean(), 0, 1)\r\n",
                "print(df_one_01.shape,'Turned RunAvg into a Binary Class')\r\n",
                "\r\n",
                "#Drop columns not needed\r\n",
                "df_one_01.drop(labels=['Run1 (ms)','Run2 (ms)','Run3 (ms)','Run4 (ms)','RunAvg']\r\n",
                "            , axis=1\r\n",
                "            , inplace=True)\r\n",
                "print(df_one_01.shape,'Data has been read in.')\r\n",
                "print(df_one_01.head())"
            ],
            "metadata": {
                "azdata_cell_guid": "9ca9797b-a9f3-4600-af88-25391ac045d7"
            },
            "outputs": [
                {
                    "name": "stdout",
                    "text": "(241600, 18)\n",
                    "output_type": "stream"
                },
                {
                    "name": "stdout",
                    "text": "(241600, 19) Added Average Column\n(241600, 20) Turned RunAvg into a Binary Class\n(241600, 15) Data has been read in.\n   MWG  NWG  KWG  MDIMC  NDIMC  MDIMA  NDIMB  KWI  VWM  VWN  STRM  STRN  SA  \\\n0   16   16   16      8      8      8      8    2    1    1     0     0   0   \n1   16   16   16      8      8      8      8    2    1    1     0     0   0   \n2   16   16   16      8      8      8      8    2    1    1     0     0   1   \n3   16   16   16      8      8      8      8    2    1    1     0     0   1   \n4   16   16   16      8      8      8      8    2    1    1     0     1   0   \n\n   SB  B_RunAvg  \n0   0         0  \n1   1         0  \n2   0         0  \n3   1         0  \n4   0         0  \n",
                    "output_type": "stream"
                }
            ],
            "execution_count": 2
        },
        {
            "cell_type": "markdown",
            "source": [
                "## Split Train and Test Data sets"
            ],
            "metadata": {
                "azdata_cell_guid": "ebb315dd-eda3-40e7-8f99-d7604a378831"
            }
        },
        {
            "cell_type": "code",
            "source": [
                "# ==============================================================================\r\n",
                "# Create a Training and Testing data set\r\n",
                "# ==============================================================================\r\n",
                "X = df_one_01.drop(['B_RunAvg'], axis=1)\r\n",
                "y = df_one_01['B_RunAvg']\r\n",
                "\r\n",
                "d1_X_train, d1_X_test, d1_y_train, d1_y_test = train_test_split(X, y, test_size=0.30, random_state=seed)\r\n",
                "\r\n",
                "print('d1_X_train\\t',d1_X_train.shape,'\\t', len(d1_X_train)/len(df_one_01))\r\n",
                "print('d1_y_train\\t',d1_y_train.shape,'\\t', len(d1_y_train)/len(df_one_01))\r\n",
                "print('d1_X_test\\t',d1_X_test.shape,'\\t', len(d1_X_test)/len(df_one_01))\r\n",
                "print('d1_y_test\\t',d1_y_test.shape,'\\t', len(d1_y_test)/len(df_one_01),'\\n')"
            ],
            "metadata": {
                "azdata_cell_guid": "380142af-b6c1-498a-b49d-396b4acc3de5"
            },
            "outputs": [
                {
                    "name": "stdout",
                    "text": "d1_X_train\t (169120, 14) \t 0.7\nd1_y_train\t (169120,) \t 0.7\nd1_X_test\t (72480, 14) \t 0.3\nd1_y_test\t (72480,) \t 0.3 \n\n",
                    "output_type": "stream"
                }
            ],
            "execution_count": 3
        },
        {
            "cell_type": "markdown",
            "source": [
                "## Train Neural Network and test the model"
            ],
            "metadata": {
                "azdata_cell_guid": "c96c0374-2a02-4dde-81ea-bbfc06b092b3"
            }
        },
        {
            "cell_type": "code",
            "source": [
                "%%time\r\n",
                "\r\n",
                "NN_1 = MLPClassifier(hidden_layer_sizes=(14,14),activation='tanh') # Options: 'identity', 'logistic', 'tanh', 'relu'\r\n",
                "NN_1.fit(d1_X_train,d1_y_train)\r\n",
                "NN_Pred_y = mlp_1.predict(d1_X_test)\r\n",
                "\r\n",
                "NN_Confusion_Matrix = pd.DataFrame(data=confusion_matrix(d1_y_test,NN_Pred_y)\r\n",
                "                                    , index =['Actual No', 'Actual Yes']\r\n",
                "                                    , columns =['Prediced No','Predicted Yes'])\r\n",
                "NN_CR=classification_report(d1_y_test,NN_Pred_y)\r\n",
                "MSE_NN = (np.square(d1_y_test - NN_Pred_y)).mean()\r\n",
                "SSE_NN = (np.square(d1_y_test - NN_Pred_y)).sum()\r\n",
                "\r\n",
                "print('NN MSE',MSE_NN)\r\n",
                "print('NN SSE',SSE_NN)\r\n",
                "print(NN_Confusion_Matrix,'\\n')\r\n",
                "print(NN_CR,'\\n\\n')"
            ],
            "metadata": {
                "azdata_cell_guid": "ca9cb702-fd44-463a-a44e-00e01b659239"
            },
            "outputs": [
                {
                    "name": "stdout",
                    "text": "NN MSE 0.029373620309050774\nNN SSE 2129\n            Prediced No  Predicted Yes\nActual No         52343           1081\nActual Yes         1048          18008 \n\n              precision    recall  f1-score   support\n\n           0       0.98      0.98      0.98     53424\n           1       0.94      0.95      0.94     19056\n\n    accuracy                           0.97     72480\n   macro avg       0.96      0.96      0.96     72480\nweighted avg       0.97      0.97      0.97     72480\n \n\n\nWall time: 1min 58s\n",
                    "output_type": "stream"
                }
            ],
            "execution_count": 6
        },
        {
            "cell_type": "markdown",
            "source": [
                "### The Neural Network model had an accuracy of .97"
            ],
            "metadata": {
                "azdata_cell_guid": "67d344ad-8094-4293-a733-c2def282768b"
            }
        }
    ]
}