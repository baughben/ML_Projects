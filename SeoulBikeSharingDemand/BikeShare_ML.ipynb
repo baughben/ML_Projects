{
    "metadata": {
        "kernelspec": {
            "name": "python3",
            "display_name": "Python 3"
        },
        "language_info": {
            "name": "python",
            "version": "3.8.3",
            "mimetype": "text/x-python",
            "codemirror_mode": {
                "name": "ipython",
                "version": 3
            },
            "pygments_lexer": "ipython3",
            "nbconvert_exporter": "python",
            "file_extension": ".py"
        }
    },
    "nbformat_minor": 2,
    "nbformat": 4,
    "cells": [
        {
            "cell_type": "markdown",
            "source": [
                "# Seoul Bike Sharing Demand Data Set\n",
                "\n",
                "[https://archive.ics.uci.edu/ml/datasets/Seoul+Bike+Sharing+Demand#](https://archive.ics.uci.edu/ml/datasets/Seoul+Bike+Sharing+Demand \"https://archive.ics.uci.edu/ml/datasets/Seoul+Bike+Sharing+Demand\") \n",
                "\n",
                "The goal of this project is to predict the hourly demand of bike rentals. \n",
                "\n",
                "The dataset contains a dependent variable (Rented Bike Count) and 13 independent variables."
            ],
            "metadata": {
                "azdata_cell_guid": "6518c58f-0f55-40c7-b230-387760f640cb"
            }
        },
        {
            "cell_type": "code",
            "source": [
                "import pandas as pd \r\n",
                "import numpy as np \r\n",
                "import os\r\n",
                "from pathlib import Path, PurePath\r\n",
                "import matplotlib.pyplot as plt\r\n",
                "import datetime as dt\r\n",
                "import seaborn as sns\r\n",
                "from pandas.plotting import scatter_matrix \r\n",
                "from sklearn.model_selection import train_test_split\r\n",
                "from sklearn import preprocessing\r\n",
                "from sklearn.linear_model import LinearRegression, SGDRegressor\r\n",
                "from sklearn.metrics import mean_squared_error, mean_absolute_error, r2_score\r\n",
                "from sklearn.model_selection import cross_val_score,cross_validate, GridSearchCV\r\n",
                "from sklearn.tree import DecisionTreeRegressor\r\n",
                "from sklearn.ensemble import RandomForestRegressor\r\n",
                "from sklearn.svm import SVR\r\n",
                "import xgboost as xgb\r\n",
                "from sklearn.ensemble import ExtraTreesClassifier\r\n",
                "from sklearn.feature_selection import SelectKBest,chi2\r\n",
                "\r\n",
                "seed = 2020\r\n",
                "\r\n",
                "# os.chdir(r'c:\\Users\\Ben\\Box\\Benjamin\\DataScience\\Practice\\SeoulBikeSharingDemand')\r\n",
                "folder = Path.cwd()\r\n",
                "print(folder)"
            ],
            "metadata": {
                "azdata_cell_guid": "f89593a7-345f-4d1e-bf51-99f74d400695"
            },
            "outputs": [
                {
                    "name": "stdout",
                    "text": "c:\\Users\\Ben\\Box\\Benjamin\\DataScience\\Practice\\SeoulBikeSharingDemand\n",
                    "output_type": "stream"
                }
            ],
            "execution_count": 113
        },
        {
            "cell_type": "markdown",
            "source": [
                "### Read in data"
            ],
            "metadata": {
                "azdata_cell_guid": "86968197-0300-4dd8-9e84-9668edb8c8fc"
            }
        },
        {
            "cell_type": "code",
            "source": [
                "# Read in data \r\n",
                "file_data = 'SeoulBikeData.csv'\r\n",
                "\r\n",
                "df = pd.read_csv(filepath_or_buffer=file_data\r\n",
                "                , encoding = \"ISO-8859-1\")\r\n",
                "\r\n",
                "# converting to a datetime data type\r\n",
                "df['Date'] = pd.to_datetime(df['Date'], format=\"%d/%m/%Y\")                \r\n",
                "df_date_range = pd.to_datetime(df['Date'])\r\n",
                "\r\n",
                "print(df.shape)\r\n",
                "print(f\"\\nMin: {df_date_range.min().date()} Max: {df_date_range.max().date()} \\n\")\r\n",
                "print(df.head())"
            ],
            "metadata": {
                "azdata_cell_guid": "12f0dfbe-04c7-443f-8877-be3835e3baa7"
            },
            "outputs": [
                {
                    "name": "stdout",
                    "text": "(8760, 14)\n\nMin: 2017-12-01 Max: 2018-11-30 \n\n        Date  Rented Bike Count  Hour  Temperature(°C)  Humidity(%)  \\\n0 2017-12-01                254     0             -5.2           37   \n1 2017-12-01                204     1             -5.5           38   \n2 2017-12-01                173     2             -6.0           39   \n3 2017-12-01                107     3             -6.2           40   \n4 2017-12-01                 78     4             -6.0           36   \n\n   Wind speed (m/s)  Visibility (10m)  Dew point temperature(°C)  \\\n0               2.2              2000                      -17.6   \n1               0.8              2000                      -17.6   \n2               1.0              2000                      -17.7   \n3               0.9              2000                      -17.6   \n4               2.3              2000                      -18.6   \n\n   Solar Radiation (MJ/m2)  Rainfall(mm)  Snowfall (cm) Seasons     Holiday  \\\n0                      0.0           0.0            0.0  Winter  No Holiday   \n1                      0.0           0.0            0.0  Winter  No Holiday   \n2                      0.0           0.0            0.0  Winter  No Holiday   \n3                      0.0           0.0            0.0  Winter  No Holiday   \n4                      0.0           0.0            0.0  Winter  No Holiday   \n\n  Functioning Day  \n0             Yes  \n1             Yes  \n2             Yes  \n3             Yes  \n4             Yes  \n",
                    "output_type": "stream"
                }
            ],
            "execution_count": 114
        },
        {
            "cell_type": "markdown",
            "source": [
                "### Split Data to train, validation, and test sets."
            ],
            "metadata": {
                "azdata_cell_guid": "382f350c-49ee-457c-ab7f-973ca70047b7"
            }
        },
        {
            "cell_type": "code",
            "source": [
                "X = df.drop(['Rented Bike Count'], axis='columns')\r\n",
                "y = df['Rented Bike Count']\r\n",
                "\r\n",
                "# Create Test Set\r\n",
                "X_temp, X_test, y_temp, y_test = train_test_split(X, y, test_size=0.20, random_state=seed)\r\n",
                "\r\n",
                "# Create Validation Set \r\n",
                "X_train, X_val, y_train, y_val = train_test_split(X_temp, y_temp, test_size=0.25, random_state=seed)\r\n",
                "\r\n",
                "#Check by count \r\n",
                "print(f'X_train\\t{X_train.shape}\\t{len(X_train)/len(df)}')\r\n",
                "print(f'y_train\\t{y_train.shape}\\t\\t{len(y_train)/len(df)}')\r\n",
                "print(f'X_val\\t{X_val.shape}\\t{len(X_val)/len(df)}')\r\n",
                "print(f'y_val\\t{y_val.shape}\\t\\t{len(y_val)/len(df)}')\r\n",
                "print(f'X_test\\t{X_test.shape}\\t{len(X_test)/len(df)}')\r\n",
                "print(f'y_test\\t{y_test.shape}\\t\\t{len(y_test)/len(df)}\\n')"
            ],
            "metadata": {
                "azdata_cell_guid": "70fb66c6-3732-40d2-956f-7afdb02293c8"
            },
            "outputs": [
                {
                    "name": "stdout",
                    "text": "X_train\t(5256, 13)\t0.6\ny_train\t(5256,)\t\t0.6\nX_val\t(1752, 13)\t0.2\ny_val\t(1752,)\t\t0.2\nX_test\t(1752, 13)\t0.2\ny_test\t(1752,)\t\t0.2\n\n",
                    "output_type": "stream"
                }
            ],
            "execution_count": 115
        },
        {
            "cell_type": "markdown",
            "source": [
                "## Exploratory Data Analysis"
            ],
            "metadata": {
                "azdata_cell_guid": "834e180b-3192-4af8-950a-76266bf449d9"
            }
        },
        {
            "cell_type": "code",
            "source": [
                "# View the data types and see if there is any missing data\r\n",
                "X_train.info()"
            ],
            "metadata": {
                "azdata_cell_guid": "78bda794-cf74-418b-b893-ffe6a5d0f50d"
            },
            "outputs": [
                {
                    "name": "stdout",
                    "text": "<class 'pandas.core.frame.DataFrame'>\nInt64Index: 5256 entries, 3354 to 1503\nData columns (total 13 columns):\n #   Column                     Non-Null Count  Dtype         \n---  ------                     --------------  -----         \n 0   Date                       5256 non-null   datetime64[ns]\n 1   Hour                       5256 non-null   int64         \n 2   Temperature(°C)            5256 non-null   float64       \n 3   Humidity(%)                5256 non-null   int64         \n 4   Wind speed (m/s)           5256 non-null   float64       \n 5   Visibility (10m)           5256 non-null   int64         \n 6   Dew point temperature(°C)  5256 non-null   float64       \n 7   Solar Radiation (MJ/m2)    5256 non-null   float64       \n 8   Rainfall(mm)               5256 non-null   float64       \n 9   Snowfall (cm)              5256 non-null   float64       \n 10  Seasons                    5256 non-null   object        \n 11  Holiday                    5256 non-null   object        \n 12  Functioning Day            5256 non-null   object        \ndtypes: datetime64[ns](1), float64(6), int64(3), object(3)\nmemory usage: 574.9+ KB\n",
                    "output_type": "stream"
                }
            ],
            "execution_count": 116
        },
        {
            "cell_type": "code",
            "source": [
                "print(X_train.describe())"
            ],
            "metadata": {
                "azdata_cell_guid": "20ec54a8-1c00-46b6-8eb3-72d808bb325e"
            },
            "outputs": [
                {
                    "name": "stdout",
                    "text": "             Hour  Temperature(°C)  Humidity(%)  Wind speed (m/s)  \\\ncount  5256.00000      5256.000000  5256.000000       5256.000000   \nmean     11.55156        12.770472    58.251903          1.717580   \nstd       6.93202        11.903115    20.382762          1.040778   \nmin       0.00000       -17.500000     0.000000          0.000000   \n25%       6.00000         3.200000    42.000000          0.900000   \n50%      11.00000        13.700000    57.000000          1.500000   \n75%      18.00000        22.400000    74.000000          2.300000   \nmax      23.00000        39.400000    98.000000          7.300000   \n\n       Visibility (10m)  Dew point temperature(°C)  Solar Radiation (MJ/m2)  \\\ncount       5256.000000                5256.000000              5256.000000   \nmean        1437.424087                   3.960198                 0.561417   \nstd          609.151519                  12.989088                 0.860131   \nmin           27.000000                 -30.600000                 0.000000   \n25%          946.000000                  -4.500000                 0.000000   \n50%         1702.000000                   4.800000                 0.010000   \n75%         2000.000000                  14.600000                 0.910000   \nmax         2000.000000                  26.800000                 3.520000   \n\n       Rainfall(mm)  Snowfall (cm)  \ncount   5256.000000    5256.000000  \nmean       0.148059       0.088870  \nstd        1.070058       0.488439  \nmin        0.000000       0.000000  \n25%        0.000000       0.000000  \n50%        0.000000       0.000000  \n75%        0.000000       0.000000  \nmax       24.000000       8.800000  \n",
                    "output_type": "stream"
                }
            ],
            "execution_count": 117
        },
        {
            "cell_type": "code",
            "source": [
                "y_train.describe()"
            ],
            "metadata": {
                "azdata_cell_guid": "a75403a9-cda4-45f0-a3f3-278dca681b0c"
            },
            "outputs": [
                {
                    "data": {
                        "text/plain": "count    5256.000000\nmean      707.515221\nstd       654.781206\nmin         0.000000\n25%       189.000000\n50%       497.500000\n75%      1070.000000\nmax      3556.000000\nName: Rented Bike Count, dtype: float64"
                    },
                    "metadata": {},
                    "execution_count": 118,
                    "output_type": "execute_result"
                }
            ],
            "execution_count": 118
        },
        {
            "cell_type": "markdown",
            "source": [
                "There are no missing values in any column. After turning the date column into to datetime we have the correct data types. There are 3 columns that will need to be turned into dummy variables."
            ],
            "metadata": {
                "azdata_cell_guid": "8fd6683f-f978-4c62-b30a-b36e421aa26d"
            }
        },
        {
            "cell_type": "code",
            "source": [
                "print(X_train[['Seasons','Holiday','Functioning Day']].nunique() )"
            ],
            "metadata": {
                "azdata_cell_guid": "5439e776-e3b3-4f8c-a9eb-462d3696bb2a"
            },
            "outputs": [
                {
                    "name": "stdout",
                    "text": "Seasons            4\nHoliday            2\nFunctioning Day    2\ndtype: int64\n",
                    "output_type": "stream"
                }
            ],
            "execution_count": 119
        },
        {
            "cell_type": "code",
            "source": [
                "# The Distributions of all the numeric variables\r\n",
                "X_train.hist(color='steelblue', alpha=0.5, figsize=(15,10), bins=20)\r\n",
                ""
            ],
            "metadata": {
                "azdata_cell_guid": "71cb8dcf-9a42-4611-bae3-1c6357771453"
            },
            "outputs": [
                {
                    "data": {
                        "text/plain": "<Figure size 1080x720 with 9 Axes>",
                        "image/png": "[encoded data removed]"
                    },
                    "metadata": {
                        "needs_background": "light"
                    },
                    "output_type": "display_data"
                },
                {
                    "data": {
                        "text/plain": "array([[<matplotlib.axes._subplots.AxesSubplot object at 0x0000025EE1118E20>,\n        <matplotlib.axes._subplots.AxesSubplot object at 0x0000025EE2146580>,\n        <matplotlib.axes._subplots.AxesSubplot object at 0x0000025EE216FCD0>],\n       [<matplotlib.axes._subplots.AxesSubplot object at 0x0000025EE21A0460>,\n        <matplotlib.axes._subplots.AxesSubplot object at 0x0000025EE21C5BE0>,\n        <matplotlib.axes._subplots.AxesSubplot object at 0x0000025EE21F72E0>],\n       [<matplotlib.axes._subplots.AxesSubplot object at 0x0000025EE21F73D0>,\n        <matplotlib.axes._subplots.AxesSubplot object at 0x0000025EE221EBB0>,\n        <matplotlib.axes._subplots.AxesSubplot object at 0x0000025EE2277A60>]],\n      dtype=object)"
                    },
                    "metadata": {},
                    "execution_count": 120,
                    "output_type": "execute_result"
                }
            ],
            "execution_count": 120
        },
        {
            "cell_type": "code",
            "source": [
                "y_train.hist(color='khaki', alpha=0.5, figsize=(7.5,5), bins=20)"
            ],
            "metadata": {
                "azdata_cell_guid": "9328afe2-3210-4f22-bf9e-3cc884743f46"
            },
            "outputs": [
                {
                    "data": {
                        "text/plain": "<Figure size 540x360 with 1 Axes>",
                        "image/png": "[encoded data removed]"
                    },
                    "metadata": {
                        "needs_background": "light"
                    },
                    "output_type": "display_data"
                },
                {
                    "data": {
                        "text/plain": "<matplotlib.axes._subplots.AxesSubplot at 0x25ee2867a90>"
                    },
                    "metadata": {},
                    "execution_count": 121,
                    "output_type": "execute_result"
                }
            ],
            "execution_count": 121
        },
        {
            "cell_type": "markdown",
            "source": [
                "After looking at the distribution of the numeric variables we see the number of bikes rented has a Poisson distribution. Wind speed, Visibility (10m), Solar Radiation, Rainfall and Snowfall have either a floor or a ceiling. Temperature & Humidity is close to normally distributed."
            ],
            "metadata": {
                "azdata_cell_guid": "11a22a63-cda7-4b6a-8e51-0a1ef75f0d10"
            }
        },
        {
            "cell_type": "code",
            "source": [
                "# Correlation Matrix\r\n",
                "all_train = pd.concat([X_train, y_train], axis=1)\r\n",
                "all_train_marix = all_train.corr()\r\n",
                "sns.heatmap(all_train_marix, annot=True)\r\n",
                "plt.show()"
            ],
            "metadata": {
                "azdata_cell_guid": "e47093c7-631f-480a-a296-1d6c9dc5a172"
            },
            "outputs": [
                {
                    "data": {
                        "text/plain": "<Figure size 432x288 with 2 Axes>",
                        "image/png": "[encoded data removed]"
                    },
                    "metadata": {
                        "needs_background": "light"
                    },
                    "output_type": "display_data"
                }
            ],
            "execution_count": 122
        },
        {
            "cell_type": "markdown",
            "source": [
                "### **Correlation**\n",
                "\n",
                "Temperature and Dew point temperature are highly correlated. Dew point temperature should be dropped because it has less correlation with Rented Bike Count.\n",
                "\n",
                "The order of most correlated variable ranked from high to low.\n",
                "\n",
                "1.  Temperature\n",
                "2.  Hour\n",
                "3.  Solar Radiation\n",
                "4.  Visibility\n",
                "5.  Humidity\n",
                "6.  Snowfall\n",
                "7.  Rainfall\n",
                "8.  Windspeed"
            ],
            "metadata": {
                "azdata_cell_guid": "f316ae1f-1805-434f-ac64-69969d0efd77"
            }
        },
        {
            "cell_type": "markdown",
            "source": [
                "## Prepare the Data for Machine Learning Model\n",
                "\n",
                "We will turn Seasons, Holiday, and Functioning Day into dummy variables. We will break down date into:\n",
                "\n",
                "1.  Year\n",
                "2.  Month\n",
                "3.  Day\n",
                "4.  Week Day\n",
                "5.  Day of Week\n",
                "\n",
                "We will also drop ‘Dew point temperature’ and scale the variables with a min max scaler."
            ],
            "metadata": {
                "azdata_cell_guid": "ab8f60ba-43de-4497-9699-bb81f48b50c0"
            }
        },
        {
            "cell_type": "code",
            "source": [
                "# Create a funtion for data preperation and cleaning\r\n",
                "# ------------------------------------------------------------------------------\r\n",
                "\r\n",
                "def date_prep(DataFrame, Date_Column, Drop_Colum):\r\n",
                "    \"\"\"Takes a date column from a DataFrame and adds Year_Month, Year, Month, Day\r\n",
                "    , Week_Day, and Day_of_Week\"\"\"\r\n",
                "    # DataFrame['Year_Month'] = DataFrame['Date']\r\n",
                "    DataFrame['Year'] = DataFrame[Date_Column].dt.year\r\n",
                "    DataFrame['Month'] = DataFrame[Date_Column].dt.month\r\n",
                "    DataFrame['Day'] = DataFrame[Date_Column].dt.day\r\n",
                "    DataFrame['Day_of_Week'] = DataFrame[Date_Column].dt.dayofweek\r\n",
                "    DataFrame['Week_Day'] = np.where(DataFrame['Day_of_Week'] >= 5, 1, 0)\r\n",
                "    DataFrame.drop([Date_Column],axis=1, inplace=True)"
            ],
            "metadata": {
                "azdata_cell_guid": "fbef88d8-68a9-4e7f-a442-0a7a51e2a35e"
            },
            "outputs": [],
            "execution_count": 123
        },
        {
            "cell_type": "code",
            "source": [
                "# Prepare the Train Data set\r\n",
                "X_train_1 = X_train.copy()\r\n",
                "# Break down date into pieces\r\n",
                "date_prep(X_train_1,'Date', Drop_Colum = False)\r\n",
                "print(X_train_1.shape)\r\n",
                "# print(X_train_1.head())\r\n",
                "\r\n",
                "# Create Dummy Variables\r\n",
                "df_D1 = pd.get_dummies(X_train_1['Seasons']\r\n",
                "                            , prefix='Season'\r\n",
                "                            , prefix_sep='_'\r\n",
                "                            , drop_first=True)\r\n",
                "df_D2 = pd.get_dummies(X_train_1['Holiday']\r\n",
                "                            # , prefix='Holiday'\r\n",
                "                            , prefix_sep='_'\r\n",
                "                            , drop_first=True)\r\n",
                "df_D3 = pd.get_dummies(X_train_1['Functioning Day']\r\n",
                "                            , prefix='OperatingDay'\r\n",
                "                            , prefix_sep='_'\r\n",
                "                            , drop_first=True)\r\n",
                "\r\n",
                "X_train_2 = pd.concat([X_train_1, df_D1, df_D2, df_D3], axis=1, sort=False)\r\n",
                "X_train_2.drop(['Seasons','Holiday','Functioning Day'],axis=1, inplace=True)\r\n",
                "\r\n",
                "# Drop 'Dew point temperature(°C)'\r\n",
                "X_train_2.drop(['Dew point temperature(°C)'],axis=1, inplace=True)\r\n",
                "\r\n",
                "\r\n",
                "\r\n",
                "print(X_train_2.shape)\r\n",
                "print(X_train_2.head())\r\n",
                "\r\n",
                "min_max_scaler = preprocessing.MinMaxScaler()\r\n",
                "X_train_2_minmax = pd.DataFrame(min_max_scaler.fit_transform(X_train_2), columns=X_train_2.columns)\r\n",
                "print(X_train_2_minmax.head())"
            ],
            "metadata": {
                "azdata_cell_guid": "2441b959-29d6-4924-a8bf-a3f05b92133c"
            },
            "outputs": [
                {
                    "name": "stdout",
                    "text": "(5256, 17)\n(5256, 18)\n      Hour  Temperature(°C)  Humidity(%)  Wind speed (m/s)  Visibility (10m)  \\\n3354    18             19.1           31               3.0               958   \n323     11             -6.1           38               1.0              1587   \n7917    21             10.6           70               2.4              2000   \n1681     1             -4.8           44               1.1              1432   \n1416     0             -9.3           45               0.7              1976   \n\n      Solar Radiation (MJ/m2)  Rainfall(mm)  Snowfall (cm)  Year  Month  Day  \\\n3354                     0.70           0.0            0.0  2018      4   19   \n323                      0.52           0.0            0.0  2017     12   14   \n7917                     0.00           0.0            0.0  2018     10   26   \n1681                     0.00           0.0            0.0  2018      2    9   \n1416                     0.00           0.0            0.0  2018      1   29   \n\n      Day_of_Week  Week_Day  Season_Spring  Season_Summer  Season_Winter  \\\n3354            3         0              1              0              0   \n323             3         0              0              0              1   \n7917            4         0              0              0              0   \n1681            4         0              0              0              1   \n1416            0         0              0              0              1   \n\n      No Holiday  OperatingDay_Yes  \n3354           1                 1  \n323            1                 1  \n7917           1                 1  \n1681           1                 1  \n1416           1                 1  \n       Hour  Temperature(°C)  Humidity(%)  Wind speed (m/s)  Visibility (10m)  \\\n0  0.782609         0.643234     0.316327          0.410959          0.471870   \n1  0.478261         0.200351     0.387755          0.136986          0.790674   \n2  0.913043         0.493849     0.714286          0.328767          1.000000   \n3  0.043478         0.223199     0.448980          0.150685          0.712114   \n4  0.000000         0.144112     0.459184          0.095890          0.987836   \n\n   Solar Radiation (MJ/m2)  Rainfall(mm)  Snowfall (cm)  Year     Month  \\\n0                 0.198864           0.0            0.0   1.0  0.272727   \n1                 0.147727           0.0            0.0   0.0  1.000000   \n2                 0.000000           0.0            0.0   1.0  0.818182   \n3                 0.000000           0.0            0.0   1.0  0.090909   \n4                 0.000000           0.0            0.0   1.0  0.000000   \n\n        Day  Day_of_Week  Week_Day  Season_Spring  Season_Summer  \\\n0  0.600000     0.500000       0.0            1.0            0.0   \n1  0.433333     0.500000       0.0            0.0            0.0   \n2  0.833333     0.666667       0.0            0.0            0.0   \n3  0.266667     0.666667       0.0            0.0            0.0   \n4  0.933333     0.000000       0.0            0.0            0.0   \n\n   Season_Winter  No Holiday  OperatingDay_Yes  \n0            0.0         1.0               1.0  \n1            1.0         1.0               1.0  \n2            0.0         1.0               1.0  \n3            1.0         1.0               1.0  \n4            1.0         1.0               1.0  \n",
                    "output_type": "stream"
                }
            ],
            "execution_count": 124
        },
        {
            "cell_type": "code",
            "source": [
                "# Prepare the Valudation Data Set\r\n",
                "X_val_1 = X_val.copy()\r\n",
                "# Break down date into pieces\r\n",
                "date_prep(X_val_1,'Date', Drop_Colum = False)\r\n",
                "print(X_val_1.shape)\r\n",
                "# print(X_val_1.head())\r\n",
                "\r\n",
                "# Create Dummy Variables\r\n",
                "df_D1 = pd.get_dummies(X_val_1['Seasons']\r\n",
                "                            , prefix='Season'\r\n",
                "                            , prefix_sep='_'\r\n",
                "                            , drop_first=True)\r\n",
                "df_D2 = pd.get_dummies(X_val_1['Holiday']\r\n",
                "                            # , prefix='Holiday'\r\n",
                "                            , prefix_sep='_'\r\n",
                "                            , drop_first=True)\r\n",
                "df_D3 = pd.get_dummies(X_val_1['Functioning Day']\r\n",
                "                            , prefix='OperatingDay'\r\n",
                "                            , prefix_sep='_'\r\n",
                "                            , drop_first=True)\r\n",
                "\r\n",
                "X_val_2 = pd.concat([X_val_1, df_D1, df_D2, df_D3], axis=1, sort=False)\r\n",
                "X_val_2.drop(['Seasons','Holiday','Functioning Day'],axis=1, inplace=True)\r\n",
                "\r\n",
                "# Drop 'Dew point temperature(°C)'\r\n",
                "X_val_2.drop(['Dew point temperature(°C)'],axis=1, inplace=True)\r\n",
                "\r\n",
                "\r\n",
                "\r\n",
                "print(X_val_2.shape)\r\n",
                "# print(X_val_2.head())\r\n",
                "\r\n",
                "min_max_scaler = preprocessing.MinMaxScaler()\r\n",
                "X_val_2_minmax = pd.DataFrame(min_max_scaler.fit_transform(X_val_2), columns=X_val_2.columns)\r\n",
                "print(X_val_2_minmax.head())"
            ],
            "metadata": {
                "azdata_cell_guid": "92328b70-5242-4cca-a2c5-8a49c51edf30"
            },
            "outputs": [
                {
                    "name": "stdout",
                    "text": "(1752, 17)\n(1752, 18)\n       Hour  Temperature(°C)  Humidity(%)  Wind speed (m/s)  Visibility (10m)  \\\n0  1.000000         0.628623     0.857143          0.160714          1.000000   \n1  0.130435         0.661232     0.775510          0.089286          0.957274   \n2  0.391304         0.699275     0.653061          0.196429          0.595626   \n3  0.391304         0.713768     0.826531          0.410714          0.831638   \n4  0.695652         0.943841     0.459184          0.410714          0.728383   \n\n   Solar Radiation (MJ/m2)  Rainfall(mm)  Snowfall (cm)  Year     Month  \\\n0                 0.000000           0.0            0.0   1.0  0.818182   \n1                 0.000000           0.0            0.0   1.0  0.727273   \n2                 0.327536           0.0            0.0   1.0  0.727273   \n3                 0.347826           0.0            0.0   1.0  0.727273   \n4                 0.715942           0.0            0.0   1.0  0.545455   \n\n        Day  Day_of_Week  Week_Day  Season_Spring  Season_Summer  \\\n0  0.166667     0.833333       1.0            0.0            0.0   \n1  0.566667     0.166667       0.0            0.0            0.0   \n2  0.566667     0.166667       0.0            0.0            0.0   \n3  0.100000     0.166667       0.0            0.0            0.0   \n4  0.633333     0.666667       0.0            0.0            1.0   \n\n   Season_Winter  No Holiday  OperatingDay_Yes  \n0            0.0         1.0               1.0  \n1            0.0         1.0               0.0  \n2            0.0         1.0               0.0  \n3            0.0         1.0               1.0  \n4            0.0         1.0               1.0  \n",
                    "output_type": "stream"
                }
            ],
            "execution_count": 125
        },
        {
            "cell_type": "code",
            "source": [
                "# Prepare the Test Data Set\r\n",
                "X_test_1 = X_test.copy()\r\n",
                "# Break down date into pieces\r\n",
                "date_prep(X_test_1,'Date', Drop_Colum = False)\r\n",
                "print(X_test_1.shape)\r\n",
                "# print(X_test_1.head())\r\n",
                "\r\n",
                "# Create Dummy Variables\r\n",
                "df_D1 = pd.get_dummies(X_test_1['Seasons']\r\n",
                "                            , prefix='Season'\r\n",
                "                            , prefix_sep='_'\r\n",
                "                            , drop_first=True)\r\n",
                "df_D2 = pd.get_dummies(X_test_1['Holiday']\r\n",
                "                            # , prefix='Holiday'\r\n",
                "                            , prefix_sep='_'\r\n",
                "                            , drop_first=True)\r\n",
                "df_D3 = pd.get_dummies(X_test_1['Functioning Day']\r\n",
                "                            , prefix='OperatingDay'\r\n",
                "                            , prefix_sep='_'\r\n",
                "                            , drop_first=True)\r\n",
                "\r\n",
                "X_test_2 = pd.concat([X_test_1, df_D1, df_D2, df_D3], axis=1, sort=False)\r\n",
                "X_test_2.drop(['Seasons','Holiday','Functioning Day'],axis=1, inplace=True)\r\n",
                "\r\n",
                "# Drop 'Dew point temperature(°C)'\r\n",
                "X_test_2.drop(['Dew point temperature(°C)'],axis=1, inplace=True)\r\n",
                "\r\n",
                "\r\n",
                "\r\n",
                "print(X_test_2.shape)\r\n",
                "# print(X_test_2.head())\r\n",
                "\r\n",
                "min_max_scaler = preprocessing.MinMaxScaler()\r\n",
                "X_test_2_minmax = pd.DataFrame(min_max_scaler.fit_transform(X_test_2), columns=X_test_2.columns)\r\n",
                "print(X_test_2_minmax.head())"
            ],
            "metadata": {
                "azdata_cell_guid": "53a91a41-bc01-4407-bb06-f0fa3772f617"
            },
            "outputs": [
                {
                    "name": "stdout",
                    "text": "(1752, 17)\n(1752, 18)\n       Hour  Temperature(°C)  Humidity(%)  Wind speed (m/s)  Visibility (10m)  \\\n0  0.652174         0.434164     0.214286          0.364865          0.948294   \n1  0.695652         0.966192     0.357143          0.175676          1.000000   \n2  0.260870         0.471530     0.857143          0.094595          0.121510   \n3  0.608696         0.674377     0.285714          0.378378          0.581696   \n4  0.434783         0.606762     0.459184          0.283784          1.000000   \n\n   Solar Radiation (MJ/m2)  Rainfall(mm)  Snowfall (cm)  Year     Month  \\\n0                 0.630682           0.0            0.0   1.0  0.090909   \n1                 0.568182           0.0            0.0   1.0  0.636364   \n2                 0.000000           0.0            0.0   1.0  0.181818   \n3                 0.781250           0.0            0.0   1.0  0.181818   \n4                 0.741477           0.0            0.0   1.0  0.363636   \n\n        Day  Day_of_Week  Week_Day  Season_Spring  Season_Summer  \\\n0  0.800000     1.000000       1.0            0.0            0.0   \n1  0.700000     0.333333       0.0            0.0            1.0   \n2  0.900000     0.333333       0.0            1.0            0.0   \n3  0.966667     0.666667       0.0            1.0            0.0   \n4  0.600000     0.833333       1.0            1.0            0.0   \n\n   Season_Winter  No Holiday  OperatingDay_Yes  \n0            1.0         1.0               1.0  \n1            0.0         1.0               1.0  \n2            0.0         1.0               1.0  \n3            0.0         1.0               1.0  \n4            0.0         1.0               1.0  \n",
                    "output_type": "stream"
                }
            ],
            "execution_count": 126
        },
        {
            "cell_type": "code",
            "source": [
                "print(f'X_train_2_minmax {X_train_2_minmax.shape} ')\r\n",
                "print(f'y_train\\t{y_train.shape}')\r\n",
                "print(f'X_val_2_minmax {X_val_2_minmax.shape}')\r\n",
                "print(f'y_val\\t{y_val.shape}')\r\n",
                "print(f'X_test_2_minmax {X_test_2_minmax.shape}')\r\n",
                "print(f'y_test\\t{y_test.shape} \\n')"
            ],
            "metadata": {
                "azdata_cell_guid": "c6021607-4408-4250-b6ea-e46c9b5c4826"
            },
            "outputs": [
                {
                    "name": "stdout",
                    "text": "X_train_2_minmax (5256, 18) \ny_train\t(5256,)\nX_val_2_minmax (1752, 18)\ny_val\t(1752,)\nX_test_2_minmax (1752, 18)\ny_test\t(1752,) \n\n",
                    "output_type": "stream"
                }
            ],
            "execution_count": 127
        },
        {
            "cell_type": "markdown",
            "source": [
                "##  Short List Promising Models\n",
                "\n",
                "1.  Linear Regression\n",
                "2.  Decision Tree\n",
                "3.  Random Forest\n",
                "4.  SVM\n",
                "5.  XGBoost"
            ],
            "metadata": {
                "azdata_cell_guid": "19257ec7-c9e4-40d7-8195-3512263babbc"
            }
        },
        {
            "cell_type": "code",
            "source": [
                "#  Get right data frame names\r\n",
                "X_train = X_train_2_minmax.copy()\r\n",
                "X_val = X_val_2_minmax.copy()\r\n",
                "X_test = X_test_2_minmax.copy()\r\n",
                "\r\n",
                "print(f'X_train {X_train.shape} ')\r\n",
                "print(f'y_train\\t{y_train.shape}')\r\n",
                "print(f'X_val {X_val.shape}')\r\n",
                "print(f'y_val\\t{y_val.shape}')\r\n",
                "print(f'X_test {X_test.shape}')\r\n",
                "print(f'y_test\\t{y_test.shape} \\n')\r\n",
                "\r\n",
                "# Create Scored DF\r\n",
                "df_score = pd.DataFrame(columns=['Dataset'\r\n",
                "                                ,'Model'\r\n",
                "                                ,'MAE_Mean'\r\n",
                "                                ,'MSE_Mean'\r\n",
                "                                ,'RMSE_Mean'\r\n",
                "                                ,'RMSE_StandDev'\r\n",
                "                                ,'R2'\r\n",
                "                                ])\r\n",
                "\r\n",
                "# Create scoring list\r\n",
                "scor = ['r2','neg_root_mean_squared_error','neg_mean_absolute_error','neg_mean_squared_error']"
            ],
            "metadata": {
                "azdata_cell_guid": "37e4625a-5b5b-4ac3-99b9-e3bac7670f86"
            },
            "outputs": [
                {
                    "name": "stdout",
                    "text": "X_train (5256, 18) \ny_train\t(5256,)\nX_val (1752, 18)\ny_val\t(1752,)\nX_test (1752, 18)\ny_test\t(1752,) \n\n",
                    "output_type": "stream"
                }
            ],
            "execution_count": 128
        },
        {
            "cell_type": "code",
            "source": [
                "# Linear Regression\r\n",
                "t1000 = dt.datetime.now()\r\n",
                "\r\n",
                "lm_score = cross_validate(estimator=LinearRegression()\r\n",
                "                            ,X=X_train\r\n",
                "                            ,y=y_train\r\n",
                "                            ,scoring=scor\r\n",
                "                            ,cv=10)\r\n",
                "# Get the scores\r\n",
                "df_lm_scores = pd.DataFrame(lm_score)\r\n",
                "\r\n",
                "# Add scores to df\r\n",
                "df_score = df_score.append({'Dataset':'Train'\r\n",
                "                                ,'Model':'Lin Reg'\r\n",
                "                                ,'MAE_Mean':-df_lm_scores['test_neg_mean_absolute_error'].mean()\r\n",
                "                                ,'MSE_Mean':-df_lm_scores['test_neg_mean_squared_error'].mean()\r\n",
                "                                ,'RMSE_Mean':-df_lm_scores['test_neg_root_mean_squared_error'].mean()\r\n",
                "                                ,'RMSE_StandDev':df_lm_scores['test_neg_root_mean_squared_error'].std()\r\n",
                "                                ,'R2':df_lm_scores['test_r2'].mean()\r\n",
                "                                }\r\n",
                "                            , ignore_index=True)\r\n",
                "\r\n",
                "print('\\n\\nThe block took', dt.datetime.now()-t1000, '(H:MM:SS)')                    "
            ],
            "metadata": {
                "azdata_cell_guid": "e16f23d8-8f1d-4d8f-9d88-283d72bfc251"
            },
            "outputs": [
                {
                    "name": "stdout",
                    "text": "\n\nThe block took 0:00:00.165557 (H:MM:SS)\n",
                    "output_type": "stream"
                }
            ],
            "execution_count": 129
        },
        {
            "cell_type": "code",
            "source": [
                "# Decision Tree\r\n",
                "t1000 = dt.datetime.now()\r\n",
                "\r\n",
                "dt_score = cross_validate(estimator=DecisionTreeRegressor()\r\n",
                "                            ,X=X_train\r\n",
                "                            ,y=y_train\r\n",
                "                            ,scoring=scor\r\n",
                "                            ,cv=10)\r\n",
                "# Get the scores\r\n",
                "df_dt_scores = pd.DataFrame(dt_score)\r\n",
                "\r\n",
                "# Add scores to df\r\n",
                "df_score = df_score.append({'Dataset':'Train'\r\n",
                "                                ,'Model':'Decision Tree'\r\n",
                "                                ,'MAE_Mean':-df_dt_scores['test_neg_mean_absolute_error'].mean()\r\n",
                "                                ,'MSE_Mean':-df_dt_scores['test_neg_mean_squared_error'].mean()\r\n",
                "                                ,'RMSE_Mean':-df_dt_scores['test_neg_root_mean_squared_error'].mean()\r\n",
                "                                ,'RMSE_StandDev':df_dt_scores['test_neg_root_mean_squared_error'].std()\r\n",
                "                                ,'R2':df_dt_scores['test_r2'].mean()\r\n",
                "                                }\r\n",
                "                            , ignore_index=True)\r\n",
                "\r\n",
                "print('\\n\\nThe block took', dt.datetime.now()-t1000, '(H:MM:SS)')                    "
            ],
            "metadata": {
                "azdata_cell_guid": "f47a35f0-66f5-42cd-8b50-201173e2a1a8"
            },
            "outputs": [
                {
                    "name": "stdout",
                    "text": "\n\nThe block took 0:00:00.554524 (H:MM:SS)\n",
                    "output_type": "stream"
                }
            ],
            "execution_count": 130
        },
        {
            "cell_type": "code",
            "source": [
                "# Random Forest \r\n",
                "t1000 = dt.datetime.now()\r\n",
                "\r\n",
                "rf_score = cross_validate(estimator=RandomForestRegressor()\r\n",
                "                            ,X=X_train\r\n",
                "                            ,y=y_train.values.ravel()\r\n",
                "                            ,scoring=scor\r\n",
                "                            ,cv=10)\r\n",
                "# Get the scores\r\n",
                "df_rf_scores = pd.DataFrame(rf_score)\r\n",
                "\r\n",
                "# Add scores to df\r\n",
                "df_score = df_score.append({'Dataset':'Train'\r\n",
                "                                ,'Model':'Rand Forest'\r\n",
                "                                ,'MAE_Mean':-df_rf_scores['test_neg_mean_absolute_error'].mean()\r\n",
                "                                ,'MSE_Mean':-df_rf_scores['test_neg_mean_squared_error'].mean()\r\n",
                "                                ,'RMSE_Mean':-df_rf_scores['test_neg_root_mean_squared_error'].mean()\r\n",
                "                                ,'RMSE_StandDev':df_rf_scores['test_neg_root_mean_squared_error'].std()\r\n",
                "                                ,'R2':df_rf_scores['test_r2'].mean()\r\n",
                "                                }\r\n",
                "                            , ignore_index=True)\r\n",
                "\r\n",
                "print('\\n\\nThe block took', dt.datetime.now()-t1000, '(H:MM:SS)')   "
            ],
            "metadata": {
                "azdata_cell_guid": "d61ea5ce-fb08-42fd-9ced-7c651de8cd53"
            },
            "outputs": [
                {
                    "name": "stdout",
                    "text": "\n\nThe block took 0:00:30.745617 (H:MM:SS)\n",
                    "output_type": "stream"
                }
            ],
            "execution_count": 131
        },
        {
            "cell_type": "code",
            "source": [
                "# SVM\r\n",
                "t1000 = dt.datetime.now()\r\n",
                "\r\n",
                "svm_score = cross_validate(estimator=SVR() #C=1.0, epsilon=0.2\r\n",
                "                            ,X=X_train\r\n",
                "                            ,y=y_train.values.ravel()\r\n",
                "                            ,scoring=scor\r\n",
                "                            ,cv=10)\r\n",
                "# Get the scores\r\n",
                "df_svm_scores = pd.DataFrame(svm_score)\r\n",
                "\r\n",
                "# Add scores to df\r\n",
                "df_score = df_score.append({'Dataset':'Train'\r\n",
                "                                ,'Model':'SVM'\r\n",
                "                                ,'MAE_Mean':-df_svm_scores['test_neg_mean_absolute_error'].mean()\r\n",
                "                                ,'MSE_Mean':-df_svm_scores['test_neg_mean_squared_error'].mean()\r\n",
                "                                ,'RMSE_Mean':-df_svm_scores['test_neg_root_mean_squared_error'].mean()\r\n",
                "                                ,'RMSE_StandDev':df_svm_scores['test_neg_root_mean_squared_error'].std()\r\n",
                "                                ,'R2':df_svm_scores['test_r2'].mean()\r\n",
                "                                }\r\n",
                "                            , ignore_index=True)\r\n",
                "\r\n",
                "print('\\n\\nThe block took', dt.datetime.now()-t1000, '(H:MM:SS)')  "
            ],
            "metadata": {
                "azdata_cell_guid": "4c7785e3-9417-4382-b8cf-b4167e9551c4"
            },
            "outputs": [
                {
                    "name": "stdout",
                    "text": "\n\nThe block took 0:00:19.093051 (H:MM:SS)\n",
                    "output_type": "stream"
                }
            ],
            "execution_count": 132
        },
        {
            "cell_type": "code",
            "source": [
                "# XGBoost\r\n",
                "t1000 = dt.datetime.now()\r\n",
                "\r\n",
                "xgb_score = cross_validate(estimator=xgb.XGBRegressor() \r\n",
                "                            ,X=X_train\r\n",
                "                            ,y=y_train\r\n",
                "                            ,scoring=scor\r\n",
                "                            ,cv=10)\r\n",
                "# Get the scores\r\n",
                "df_xgb_scores = pd.DataFrame(xgb_score)\r\n",
                "\r\n",
                "# Add scores to df\r\n",
                "df_score = df_score.append({'Dataset':'Train'\r\n",
                "                                ,'Model':'XGB'\r\n",
                "                                ,'MAE_Mean':-df_xgb_scores['test_neg_mean_absolute_error'].mean()\r\n",
                "                                ,'MSE_Mean':-df_xgb_scores['test_neg_mean_squared_error'].mean()\r\n",
                "                                ,'RMSE_Mean':-df_xgb_scores['test_neg_root_mean_squared_error'].mean()\r\n",
                "                                ,'RMSE_StandDev':df_xgb_scores['test_neg_root_mean_squared_error'].std()\r\n",
                "                                ,'R2':df_xgb_scores['test_r2'].mean()\r\n",
                "                                }\r\n",
                "                            , ignore_index=True)\r\n",
                "\r\n",
                "print('\\n\\nThe block took', dt.datetime.now()-t1000, '(H:MM:SS)')  "
            ],
            "metadata": {
                "azdata_cell_guid": "a8198818-0f77-40f4-9d7d-860414faef84"
            },
            "outputs": [
                {
                    "name": "stdout",
                    "text": "\n\nThe block took 0:00:04.197755 (H:MM:SS)\n",
                    "output_type": "stream"
                }
            ],
            "execution_count": 133
        },
        {
            "cell_type": "code",
            "source": [
                "print(df_score)"
            ],
            "metadata": {
                "azdata_cell_guid": "57bfbacf-109e-4730-a465-4d7aef18ea19"
            },
            "outputs": [
                {
                    "name": "stdout",
                    "text": "  Dataset          Model    MAE_Mean       MSE_Mean   RMSE_Mean  \\\n0   Train        Lin Reg  327.533141  189853.438355  435.202506   \n1   Train  Decision Tree  145.606922   67295.584608  258.828918   \n2   Train    Rand Forest  108.207750   33995.977567  183.545139   \n3   Train            SVM  411.969877  356116.848303  596.100051   \n4   Train            XGB  103.088422   27737.381048  166.038309   \n\n   RMSE_StandDev        R2  \n0      22.415701  0.556232  \n1      18.353801  0.840868  \n2      18.473993  0.919848  \n3      29.468968  0.168636  \n4      13.689454  0.934621  \n",
                    "output_type": "stream"
                }
            ],
            "execution_count": 134
        },
        {
            "cell_type": "markdown",
            "source": [
                "## Fine-Tune the System"
            ],
            "metadata": {
                "azdata_cell_guid": "6c7ac909-0e66-4a0f-ac6d-c44a2263be55"
            }
        },
        {
            "cell_type": "code",
            "source": [
                "t1000 = dt.datetime.now()\r\n",
                "\r\n",
                "param_grid = [ \r\n",
                "    {'n_estimators': [50, 100, 500, 1000, 1500]\r\n",
                "        , 'max_depth': [5,10]}\r\n",
                "    # , {'booster': ['gblinear']\r\n",
                "    #     , 'n_estimators': [50, 80,100]\r\n",
                "    #     , 'max_depth': [10,15]},\r\n",
                "     ] \r\n",
                "xgb_reg = xgb.XGBRegressor()\r\n",
                "grid_search = GridSearchCV( xgb_reg\r\n",
                "                            ,param_grid\r\n",
                "                            ,cv = 5\r\n",
                "                            ,scoring ='neg_root_mean_squared_error'\r\n",
                "                            ,return_train_score = True\r\n",
                "                            ,refit='neg_root_mean_squared_error')\r\n",
                "grid_search.fit( X_train, y_train.values.ravel())\r\n",
                "\r\n",
                "print(grid_search.best_params_)\r\n",
                "print(grid_search.best_estimator_)\r\n",
                "\r\n",
                "\r\n",
                "print('\\n\\nThe block took', dt.datetime.now()-t1000, '(H:MM:SS)')"
            ],
            "metadata": {
                "azdata_cell_guid": "2bc36038-a39a-458c-a86f-7a764f97c2e8"
            },
            "outputs": [
                {
                    "name": "stdout",
                    "text": "{'max_depth': 10, 'n_estimators': 1000}\nXGBRegressor(base_score=0.5, booster='gbtree', colsample_bylevel=1,\n             colsample_bynode=1, colsample_bytree=1, gamma=0, gpu_id=-1,\n             importance_type='gain', interaction_constraints='',\n             learning_rate=0.300000012, max_delta_step=0, max_depth=10,\n             min_child_weight=1, missing=nan, monotone_constraints='()',\n             n_estimators=1000, n_jobs=0, num_parallel_tree=1, random_state=0,\n             reg_alpha=0, reg_lambda=1, scale_pos_weight=1, subsample=1,\n             tree_method='exact', validate_parameters=1, verbosity=None)\n\n\nThe block took 0:01:46.066716 (H:MM:SS)\n",
                    "output_type": "stream"
                }
            ],
            "execution_count": 135
        },
        {
            "cell_type": "code",
            "source": [
                "# XGBoost\r\n",
                "t1000 = dt.datetime.now()\r\n",
                "\r\n",
                "xgb_score = cross_validate(estimator=xgb.XGBRegressor(max_depth=10,n_estimators=1000) \r\n",
                "                            ,X=X_train\r\n",
                "                            ,y=y_train\r\n",
                "                            ,scoring=scor\r\n",
                "                            ,cv=10)\r\n",
                "# Get the scores\r\n",
                "df_xgb_scores = pd.DataFrame(xgb_score)\r\n",
                "\r\n",
                "# Add scores to df\r\n",
                "df_score = df_score.append({'Dataset':'Train'\r\n",
                "                                ,'Model':'XGB'\r\n",
                "                                ,'MAE_Mean':-df_xgb_scores['test_neg_mean_absolute_error'].mean()\r\n",
                "                                ,'MSE_Mean':-df_xgb_scores['test_neg_mean_squared_error'].mean()\r\n",
                "                                ,'RMSE_Mean':-df_xgb_scores['test_neg_root_mean_squared_error'].mean()\r\n",
                "                                ,'RMSE_StandDev':df_xgb_scores['test_neg_root_mean_squared_error'].std()\r\n",
                "                                ,'R2':df_xgb_scores['test_r2'].mean()\r\n",
                "                                , 'Hyperparameters ':\"max_depth=10,n_estimators=1000\"\r\n",
                "                                }\r\n",
                "                            , ignore_index=True)\r\n",
                "\r\n",
                "print('\\n\\nThe block took', dt.datetime.now()-t1000, '(H:MM:SS)')"
            ],
            "metadata": {
                "azdata_cell_guid": "1388b898-f5a5-4a90-b8fa-796c4958c29a"
            },
            "outputs": [
                {
                    "name": "stdout",
                    "text": "\n\nThe block took 0:00:41.628862 (H:MM:SS)\n",
                    "output_type": "stream"
                }
            ],
            "execution_count": 136
        },
        {
            "cell_type": "code",
            "source": [
                "print(df_score)"
            ],
            "metadata": {
                "azdata_cell_guid": "fe4c808d-ba2a-4471-801c-63a196901e48"
            },
            "outputs": [
                {
                    "name": "stdout",
                    "text": "  Dataset          Model    MAE_Mean       MSE_Mean   RMSE_Mean  \\\n0   Train        Lin Reg  327.533141  189853.438355  435.202506   \n1   Train  Decision Tree  145.606922   67295.584608  258.828918   \n2   Train    Rand Forest  108.207750   33995.977567  183.545139   \n3   Train            SVM  411.969877  356116.848303  596.100051   \n4   Train            XGB  103.088422   27737.381048  166.038309   \n5   Train            XGB   94.742848   27461.917844  165.005591   \n\n   RMSE_StandDev        R2                Hyperparameters   \n0      22.415701  0.556232                             NaN  \n1      18.353801  0.840868                             NaN  \n2      18.473993  0.919848                             NaN  \n3      29.468968  0.168636                             NaN  \n4      13.689454  0.934621                             NaN  \n5      16.161440  0.935259  max_depth=10,n_estimators=1000  \n",
                    "output_type": "stream"
                }
            ],
            "execution_count": 137
        },
        {
            "cell_type": "markdown",
            "source": [
                "## Final Test"
            ],
            "metadata": {
                "azdata_cell_guid": "c5ec8984-e5e8-4c5d-8ffb-f6633334cd91"
            }
        },
        {
            "cell_type": "markdown",
            "source": [
                "### **Validate**"
            ],
            "metadata": {
                "azdata_cell_guid": "700dc50d-51d5-40a6-aa03-8d82c43de146"
            }
        },
        {
            "cell_type": "code",
            "source": [
                "t1000 = dt.datetime.now()\r\n",
                "\r\n",
                "mod_xgb = xgb.XGBRegressor(max_depth=10,n_estimators=1000)\r\n",
                "\r\n",
                "mod_xgb.fit(X_train, y_train)\r\n",
                "predictions = mod_xgb.predict(X_val)\r\n",
                "\r\n",
                "val_mae = mean_absolute_error(y_val, predictions)\r\n",
                "val_mse = mean_squared_error(y_val, predictions)\r\n",
                "val_rmse = np.sqrt(val_mse) \r\n",
                "val_r2 = r2_score(y_val, predictions)\r\n",
                "\r\n",
                "# print(f'Validation MAE: {val_mae:,.4f}')\r\n",
                "# print(f'Validation MSE: {val_mse:,.4f}')\r\n",
                "# print(f'Validation RMSE: {val_rmse:,.4f}')\r\n",
                "# print(f'Validation R2: {val_r2:,.4f}')\r\n",
                "\r\n",
                "# Add scores to df\r\n",
                "df_score = df_score.append({'Dataset':'Validate'\r\n",
                "                                ,'Model':'XGB'\r\n",
                "                                ,'MAE_Mean':val_mae\r\n",
                "                                ,'MSE_Mean':val_mse\r\n",
                "                                ,'RMSE_Mean':val_rmse\r\n",
                "                                ,'RMSE_StandDev': None\r\n",
                "                                ,'R2':val_r2\r\n",
                "                                , 'Hyperparameters ':\"max_depth=10,n_estimators=1000\"\r\n",
                "                                }\r\n",
                "                            , ignore_index=True)\r\n",
                "\r\n",
                "print('\\n\\nThe block took', dt.datetime.now()-t1000, '(H:MM:SS)')"
            ],
            "metadata": {
                "azdata_cell_guid": "d791c141-e855-4678-976d-d581e97a4f1f"
            },
            "outputs": [
                {
                    "name": "stdout",
                    "text": "\n\nThe block took 0:00:04.161387 (H:MM:SS)\n",
                    "output_type": "stream"
                }
            ],
            "execution_count": 138
        },
        {
            "cell_type": "markdown",
            "source": [
                "### **Test**"
            ],
            "metadata": {
                "azdata_cell_guid": "8ed68632-3fe1-4fb8-9ec8-a4db408a08e8"
            }
        },
        {
            "cell_type": "code",
            "source": [
                "t1000 = dt.datetime.now()\r\n",
                "\r\n",
                "test_predictions = mod_xgb.predict(X_test)\r\n",
                "\r\n",
                "test_mae = mean_absolute_error(y_test, test_predictions)\r\n",
                "test_mse = mean_squared_error(y_test, test_predictions)\r\n",
                "test_rmse = np.sqrt(test_mse) \r\n",
                "test_r2 = r2_score(y_test, test_predictions)\r\n",
                "\r\n",
                "# Add scores to df\r\n",
                "df_score = df_score.append({'Dataset':'Test'\r\n",
                "                                ,'Model':'XGB'\r\n",
                "                                ,'MAE_Mean':test_mae\r\n",
                "                                ,'MSE_Mean':test_mse\r\n",
                "                                ,'RMSE_Mean':test_rmse\r\n",
                "                                ,'RMSE_StandDev': None\r\n",
                "                                ,'R2':test_r2\r\n",
                "                                , 'Hyperparameters ':\"max_depth=10,n_estimators=1000\"\r\n",
                "                                }\r\n",
                "                            , ignore_index=True)\r\n",
                "\r\n",
                "print('\\n\\nThe block took', dt.datetime.now()-t1000, '(H:MM:SS)')"
            ],
            "metadata": {
                "azdata_cell_guid": "2515294f-8a59-455a-8479-3e2f1d957bad"
            },
            "outputs": [
                {
                    "name": "stdout",
                    "text": "\n\nThe block took 0:00:00.085770 (H:MM:SS)\n",
                    "output_type": "stream"
                }
            ],
            "execution_count": 139
        },
        {
            "cell_type": "code",
            "source": [
                "print(df_score)"
            ],
            "metadata": {
                "azdata_cell_guid": "fa436b06-f1cf-4983-be8c-2134bdb96d4c"
            },
            "outputs": [
                {
                    "name": "stdout",
                    "text": "    Dataset          Model    MAE_Mean       MSE_Mean   RMSE_Mean  \\\n0     Train        Lin Reg  327.533141  189853.438355  435.202506   \n1     Train  Decision Tree  145.606922   67295.584608  258.828918   \n2     Train    Rand Forest  108.207750   33995.977567  183.545139   \n3     Train            SVM  411.969877  356116.848303  596.100051   \n4     Train            XGB  103.088422   27737.381048  166.038309   \n5     Train            XGB   94.742848   27461.917844  165.005591   \n6  Validate            XGB  101.062973   28568.056661  169.020876   \n7      Test            XGB   95.851917   25987.424516  161.206155   \n\n  RMSE_StandDev        R2                Hyperparameters   \n0       22.4157  0.556232                             NaN  \n1       18.3538  0.840868                             NaN  \n2        18.474  0.919848                             NaN  \n3        29.469  0.168636                             NaN  \n4       13.6895  0.934621                             NaN  \n5       16.1614  0.935259  max_depth=10,n_estimators=1000  \n6          None  0.929736  max_depth=10,n_estimators=1000  \n7          None  0.932891  max_depth=10,n_estimators=1000  \n",
                    "output_type": "stream"
                }
            ],
            "execution_count": 140
        }
    ]
}