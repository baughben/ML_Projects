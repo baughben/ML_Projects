{
    "metadata": {
        "kernelspec": {
            "name": "python3",
            "display_name": "Python 3"
        },
        "language_info": {
            "name": "python",
            "version": "3.7.6",
            "mimetype": "text/x-python",
            "codemirror_mode": {
                "name": "ipython",
                "version": 3
            },
            "pygments_lexer": "ipython3",
            "nbconvert_exporter": "python",
            "file_extension": ".py"
        }
    },
    "nbformat_minor": 2,
    "nbformat": 4,
    "cells": [
        {
            "cell_type": "markdown",
            "source": [
                "# Support Vector Machine (SVM) vs Decision  Tree\r\n",
                "### This notebook uses svm and decision tree algorithims to find the best classification model for this data set. \r\n",
                "\r\n",
                "<br/>Data Source: \r\n",
                "https://archive.ics.uci.edu/ml/datasets/SGEMM+GPU+kernel+performance"
            ],
            "metadata": {
                "azdata_cell_guid": "22948639-5123-4a50-afab-a3fc59602c83"
            }
        },
        {
            "cell_type": "code",
            "source": [
                "import pandas as pd\r\n",
                "import numpy as np \r\n",
                "from sklearn.model_selection import train_test_split\r\n",
                "from sklearn.svm import SVC\r\n",
                "from sklearn.metrics import classification_report, confusion_matrix\r\n",
                "from sklearn.model_selection import StratifiedKFold, cross_val_score  \r\n",
                "from sklearn.tree import DecisionTreeClassifier\r\n",
                "\r\n",
                "seed = 20200222\r\n",
                "\r\n",
                "file1 = r'sgemm_product.csv'\r\n",
                "\r\n",
                "# https://archive.ics.uci.edu/ml/datasets/SGEMM+GPU+kernel+performance"
            ],
            "metadata": {
                "azdata_cell_guid": "04391f3b-1f9d-465e-9204-6d2705b3e8e1"
            },
            "outputs": [],
            "execution_count": 7
        },
        {
            "cell_type": "markdown",
            "source": [
                "## Read Data in and Prep it"
            ],
            "metadata": {
                "azdata_cell_guid": "426c172a-19e7-4c7d-b264-59cb50165fb2"
            }
        },
        {
            "cell_type": "code",
            "source": [
                "# Read and prepare sgemm_product data \r\n",
                "df_one_01 = pd.read_csv(file1)\r\n",
                "print(df_one_01.shape)\r\n",
                "\r\n",
                "#Add an average of the Runs\r\n",
                "df_one_01['RunAvg'] = (df_one_01['Run1 (ms)']+df_one_01['Run2 (ms)']+df_one_01['Run3 (ms)']+df_one_01['Run4 (ms)'])/4\r\n",
                "print(df_one_01.shape,'Added Average Column')\r\n",
                "\r\n",
                "df_one_01['B_RunAvg'] = np.where(df_one_01['RunAvg'] < df_one_01['RunAvg'].mean(), 0, 1)\r\n",
                "print(df_one_01.shape,'Turned RunAvg into a Binary Class')\r\n",
                "\r\n",
                "#Drop columns not needed\r\n",
                "df_one_01.drop(labels=['Run1 (ms)','Run2 (ms)','Run3 (ms)','Run4 (ms)','RunAvg']\r\n",
                "            , axis=1\r\n",
                "            , inplace=True)\r\n",
                "print(df_one_01.shape,'Data has been read in.')\r\n",
                "print(df_one_01.head())"
            ],
            "metadata": {
                "azdata_cell_guid": "07340a5d-0a47-41bf-bf58-6e11ec17a84d"
            },
            "outputs": [
                {
                    "name": "stdout",
                    "text": "(241600, 18)\n(241600, 19) Added Average Column\n(241600, 20) Turned RunAvg into a Binary Class\n(241600, 15) Data has been read in.\n   MWG  NWG  KWG  MDIMC  NDIMC  MDIMA  NDIMB  KWI  VWM  VWN  STRM  STRN  SA  \\\n0   16   16   16      8      8      8      8    2    1    1     0     0   0   \n1   16   16   16      8      8      8      8    2    1    1     0     0   0   \n2   16   16   16      8      8      8      8    2    1    1     0     0   1   \n3   16   16   16      8      8      8      8    2    1    1     0     0   1   \n4   16   16   16      8      8      8      8    2    1    1     0     1   0   \n\n   SB  B_RunAvg  \n0   0         0  \n1   1         0  \n2   0         0  \n3   1         0  \n4   0         0  \n",
                    "output_type": "stream"
                }
            ],
            "execution_count": 8
        },
        {
            "cell_type": "code",
            "source": [
                "# Get Smaller data set for SVM\r\n",
                "df_one_01 = df_one_01.sample(n=10000, random_state=1)\r\n",
                "print(df_one_01.shape)\r\n",
                "print(df_one_01.head())"
            ],
            "metadata": {
                "azdata_cell_guid": "35020514-e5d7-4a4b-98c2-22ad0e7b22c1"
            },
            "outputs": [
                {
                    "name": "stdout",
                    "text": "(10000, 15)",
                    "output_type": "stream"
                },
                {
                    "name": "stdout",
                    "text": "\n        MWG  NWG  KWG  MDIMC  NDIMC  MDIMA  NDIMB  KWI  VWM  VWN  STRM  STRN  \\\n106120   64   64   32     16     16      8     32    8    4    1     1     0   \n128737   64  128   32      8     16     32      8    2    1    4     0     0   \n123689   64  128   32      8      8      8     16    2    2    4     1     0   \n208174  128  128   16      8     32     16     16    2    2    2     1     1   \n239379  128  128   32     32      8     32     16    2    2    2     0     0   \n\n        SA  SB  B_RunAvg  \n106120   0   0         0  \n128737   0   1         0  \n123689   0   1         1  \n208174   1   0         1  \n239379   1   1         0  \n",
                    "output_type": "stream"
                }
            ],
            "execution_count": 9
        },
        {
            "cell_type": "markdown",
            "source": [
                "## Split Train and Test Data sets"
            ],
            "metadata": {
                "azdata_cell_guid": "e40049b5-e6c7-43c0-8a97-ddbaa8d9b413"
            }
        },
        {
            "cell_type": "code",
            "source": [
                "# ==============================================================================\r\n",
                "# Create a Training and Testing data set\r\n",
                "# ==============================================================================\r\n",
                "X = df_one_01.drop(['B_RunAvg'], axis=1)\r\n",
                "y = df_one_01['B_RunAvg']\r\n",
                "\r\n",
                "d1_X_train, d1_X_test, d1_y_train, d1_y_test = train_test_split(X, y, test_size=0.30, random_state=seed)\r\n",
                "\r\n",
                "print('d1_X_train\\t',d1_X_train.shape,'\\t', len(d1_X_train)/len(df_one_01))\r\n",
                "print('d1_y_train\\t',d1_y_train.shape,'\\t', len(d1_y_train)/len(df_one_01))\r\n",
                "print('d1_X_test\\t',d1_X_test.shape,'\\t', len(d1_X_test)/len(df_one_01))\r\n",
                "print('d1_y_test\\t',d1_y_test.shape,'\\t', len(d1_y_test)/len(df_one_01),'\\n')\r\n",
                ""
            ],
            "metadata": {
                "azdata_cell_guid": "780402cc-f652-4d40-8f49-cc0284fa0172"
            },
            "outputs": [
                {
                    "name": "stdout",
                    "text": "d1_X_train\t (7000, 14) \t 0.7\nd1_y_train\t (7000,) \t 0.7\nd1_X_test\t (3000, 14) \t 0.3\nd1_y_test\t (3000,) \t 0.3 \n\n",
                    "output_type": "stream"
                }
            ],
            "execution_count": 10
        },
        {
            "cell_type": "markdown",
            "source": [
                "## Run a cross validation to score each model"
            ],
            "metadata": {
                "azdata_cell_guid": "fca63fbe-b58f-4864-88a4-9ca1ba057331"
            }
        },
        {
            "cell_type": "code",
            "source": [
                "%%time \r\n",
                "#  10K took 33 Sec\r\n",
                "D1_SVML = []\r\n",
                "D1_SVMR = []\r\n",
                "D1_SVMP = []\r\n",
                "D1_DT1 = []\r\n",
                "D1_DT2 = []\r\n",
                "D1_DT3 = []\r\n",
                "D1_DT4 = []\r\n",
                "D1_DT5 = []\r\n",
                "\r\n",
                "\r\n",
                "D1_SVML.append(cross_val_score(estimator=SVC(kernel='linear'),X=d1_X_train,y=d1_y_train,cv=5))\r\n",
                "D1_SVMR.append(cross_val_score(estimator=SVC(kernel='rbf'),X=d1_X_train,y=d1_y_train,cv=5))\r\n",
                "D1_SVMP.append(cross_val_score(estimator=SVC(kernel='poly'),X=d1_X_train,y=d1_y_train,cv=5))\r\n",
                "D1_DT1.append(cross_val_score(estimator=DecisionTreeClassifier(criterion='gini'),X=d1_X_train,y=d1_y_train,cv=5))\r\n",
                "D1_DT2.append(cross_val_score(estimator=DecisionTreeClassifier(criterion='gini',max_depth=4),X=d1_X_train,y=d1_y_train,cv=5))\r\n",
                "D1_DT3.append(cross_val_score(estimator=DecisionTreeClassifier(criterion='gini',max_depth=6),X=d1_X_train,y=d1_y_train,cv=5))\r\n",
                "D1_DT4.append(cross_val_score(estimator=DecisionTreeClassifier(criterion='gini',max_depth=8),X=d1_X_train,y=d1_y_train,cv=5))\r\n",
                "D1_DT5.append(cross_val_score(estimator=DecisionTreeClassifier(criterion='gini',max_depth=10),X=d1_X_train,y=d1_y_train,cv=5))\r\n",
                "\r\n",
                "print(\"D1 SVM kernel='linear':\\t\", np.mean(D1_SVML))\r\n",
                "print(\"D1 SVM kernel='rbf':\\t\", np.mean(D1_SVMR))\r\n",
                "print(\"D1 SVM kernel='poly':\\t\", np.mean(D1_SVMP))\r\n",
                "print(\"D1 DT1:\\t\", np.mean(D1_DT1))\r\n",
                "print(\"D1 DT2:\\t\", np.mean(D1_DT2))\r\n",
                "print(\"D1 DT3:\\t\", np.mean(D1_DT3))\r\n",
                "print(\"D1 DT4:\\t\", np.mean(D1_DT4))\r\n",
                "print(\"D1 DT5:\\t\", np.mean(D1_DT5))\r\n",
                ""
            ],
            "metadata": {
                "azdata_cell_guid": "161a9264-4e4b-4db2-ad02-6a49ad1b10e5"
            },
            "outputs": [
                {
                    "name": "stdout",
                    "text": "D1 SVM kernel='linear':\t 0.9301428571428572\nD1 SVM kernel='rbf':\t 0.9001428571428571\nD1 SVM kernel='poly':\t 0.9029999999999999\nD1 DT1:\t 0.9585714285714285\nD1 DT2:\t 0.8677142857142858\nD1 DT3:\t 0.9078571428571429\nD1 DT4:\t 0.939857142857143\nD1 DT5:\t 0.9577142857142856\nWall time: 53.3 s\n",
                    "output_type": "stream"
                }
            ],
            "execution_count": 11
        },
        {
            "cell_type": "markdown",
            "source": [
                "## Best Model Test"
            ],
            "metadata": {
                "azdata_cell_guid": "2c40365c-25e9-4690-b43f-0b65f5064dab"
            }
        },
        {
            "cell_type": "code",
            "source": [
                "%%time \r\n",
                "# Fit the SVM model to eash \r\n",
                "ker = 'linear'\r\n",
                "\r\n",
                "# SVM ---------------------------------------------------------------------\r\n",
                "svm_Model = SVC(kernel=ker)\r\n",
                "svm_Model.fit(d1_X_train, d1_y_train)\r\n",
                "svm_Test_pred_y = svm_Model.predict(d1_X_test)\r\n",
                "\r\n",
                "SVM_Confusion_Matrix = pd.DataFrame(data=confusion_matrix(d1_y_test,svm_Test_pred_y)\r\n",
                "                                    # ,index =['Class 1 True','Class 2 True','Class 3 True','Class 4 True']\r\n",
                "                                    # ,columns =['Pred 1', 'Pred 2', 'Pred 3', 'Pred 4'])\r\n",
                "                                    , index =['Actual No', 'Actual Yes']\r\n",
                "                                    , columns =['Prediced No','Predicted Yes'])\r\n",
                "SVM_CR=classification_report(d1_y_test,svm_Test_pred_y)\r\n",
                "MSE_SVM = (np.square(d1_y_test - svm_Test_pred_y)).mean()\r\n",
                "SSE_SVM = (np.square(d1_y_test - svm_Test_pred_y)).sum()\r\n",
                "\r\n",
                "print('SVM MSE',MSE_SVM)\r\n",
                "print('SVM SSE',SSE_SVM)\r\n",
                "print(SVM_Confusion_Matrix,'\\n')\r\n",
                "print(SVM_CR,'\\n\\n')\r\n",
                "\r\n",
                "# DT ---------------------------------------------------------------------\r\n",
                "dt_Model = DecisionTreeClassifier()\r\n",
                "dt_Model.fit(d1_X_train, d1_y_train)\r\n",
                "dt_Test_pred_y = dt_Model.predict(d1_X_test)\r\n",
                "\r\n",
                "dt_Confusion_Matrix = pd.DataFrame(data=confusion_matrix(d1_y_test,dt_Test_pred_y)\r\n",
                "                                    # ,index =['Class 1 True','Class 2 True','Class 3 True','Class 4 True']\r\n",
                "                                    # ,columns =['Pred 1', 'Pred 2', 'Pred 3', 'Pred 4'])\r\n",
                "                                    , index =['Actual No', 'Actual Yes']\r\n",
                "                                    , columns =['Prediced No','Predicted Yes'])\r\n",
                "dt_CR=classification_report(d1_y_test,dt_Test_pred_y)\r\n",
                "MSE_dt = (np.square(d1_y_test - dt_Test_pred_y)).mean()\r\n",
                "SSE_dt = (np.square(d1_y_test - dt_Test_pred_y)).sum()\r\n",
                "\r\n",
                "print('DT MSE',MSE_dt)\r\n",
                "print('DT SSE',SSE_dt)\r\n",
                "print(dt_Confusion_Matrix,'\\n')\r\n",
                "print(dt_CR,'\\n\\n')"
            ],
            "metadata": {
                "azdata_cell_guid": "ef2fd4cf-d9bb-4661-a695-6c14fcc72a45"
            },
            "outputs": [
                {
                    "name": "stdout",
                    "text": "SVM MSE 0.068\nSVM SSE 204\n            Prediced No  Predicted Yes\nActual No          2149             88\nActual Yes          116            647 \n\n              precision    recall  f1-score   support\n\n           0       0.95      0.96      0.95      2237\n           1       0.88      0.85      0.86       763\n\n    accuracy                           0.93      3000\n   macro avg       0.91      0.90      0.91      3000\nweighted avg       0.93      0.93      0.93      3000\n \n\n\nDT MSE 0.04066666666666666\nDT SSE 122\n            Prediced No  Predicted Yes\nActual No          2171             66\nActual Yes           56            707 \n\n              precision    recall  f1-score   support\n\n           0       0.97      0.97      0.97      2237\n           1       0.91      0.93      0.92       763\n\n    accuracy                           0.96      3000\n   macro avg       0.94      0.95      0.95      3000\nweighted avg       0.96      0.96      0.96      3000\n \n\n\nWall time: 13.1 s\n",
                    "output_type": "stream"
                }
            ],
            "execution_count": 12
        },
        {
            "cell_type": "markdown",
            "source": [
                "### Both models preforemed well. The best model was the descion tree. \r\n",
                "SVM accuray = .93\r\n",
                "</br>Decision Tree accuray = .96"
            ],
            "metadata": {
                "azdata_cell_guid": "04b00db1-da82-4d31-a9c9-5a962b2aa25a"
            }
        }
    ]
}